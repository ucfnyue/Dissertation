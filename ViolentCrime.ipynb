{
 "cells": [
  {
   "cell_type": "markdown",
   "metadata": {},
   "source": [
    "# Python Notebook for CASA0010\n",
    "## The Spatial Analysis of Violece and Property Crime in London at MSOA Level\n",
    "\n",
    "### Student ID: 19053110"
   ]
  },
  {
   "cell_type": "markdown",
   "metadata": {},
   "source": [
    "## Part 1 Data pre-processing "
   ]
  },
  {
   "cell_type": "code",
   "execution_count": 1,
   "metadata": {},
   "outputs": [],
   "source": [
    "#Firstly import packages that will be used in this study\n",
    "import pandas as pd\n",
    "import numpy as np\n",
    "from matplotlib import pyplot\n",
    "from sklearn import preprocessing\n",
    "from pandas import DataFrame\n",
    "\n",
    "import matplotlib.pyplot as plt\n",
    "import statsmodels.api as sm\n",
    "import scipy.stats as sps\n",
    "\n",
    "import sklearn.metrics as sklm \n",
    "import seaborn as sns\n",
    "from statsmodels.graphics.regressionplots import plot_partregress_grid\n",
    "from statsmodels.formula.api import ols"
   ]
  },
  {
   "cell_type": "markdown",
   "metadata": {},
   "source": [
    "## 1.Data cleaning"
   ]
  },
  {
   "cell_type": "code",
   "execution_count": 2,
   "metadata": {},
   "outputs": [],
   "source": [
    "df1 = pd.read_csv('Violent_Sum.csv')\n",
    "df2 = pd.read_csv('IMD_2015_score.csv')\n",
    "df3 = pd.read_csv('LSOA_MSOA.csv')\n",
    "df4 = pd.read_csv('independent.csv')"
   ]
  },
  {
   "cell_type": "code",
   "execution_count": 3,
   "metadata": {},
   "outputs": [
    {
     "name": "stdout",
     "output_type": "stream",
     "text": [
      "<class 'pandas.core.frame.DataFrame'>\n",
      "RangeIndex: 29355 entries, 0 to 29354\n",
      "Data columns (total 2 columns):\n",
      " #   Column          Non-Null Count  Dtype \n",
      "---  ------          --------------  ----- \n",
      " 0   LSOACode        29355 non-null  object\n",
      " 1   Violence_Total  29355 non-null  int64 \n",
      "dtypes: int64(1), object(1)\n",
      "memory usage: 458.8+ KB\n"
     ]
    }
   ],
   "source": [
    "df1.info()"
   ]
  },
  {
   "cell_type": "code",
   "execution_count": 4,
   "metadata": {},
   "outputs": [
    {
     "name": "stdout",
     "output_type": "stream",
     "text": [
      "<class 'pandas.core.frame.DataFrame'>\n",
      "RangeIndex: 32844 entries, 0 to 32843\n",
      "Data columns (total 7 columns):\n",
      " #   Column                   Non-Null Count  Dtype  \n",
      "---  ------                   --------------  -----  \n",
      " 0   LSOAcode                 32844 non-null  object \n",
      " 1   LSOAname                 32844 non-null  object \n",
      " 2   IMD                      32844 non-null  float64\n",
      " 3   Income                   32844 non-null  float64\n",
      " 4   Employment               32844 non-null  float64\n",
      " 5   EducationSkillsTraining  32844 non-null  float64\n",
      " 6   LivingEnvironment        32844 non-null  float64\n",
      "dtypes: float64(5), object(2)\n",
      "memory usage: 1.8+ MB\n"
     ]
    }
   ],
   "source": [
    "df2.info()"
   ]
  },
  {
   "cell_type": "code",
   "execution_count": 5,
   "metadata": {},
   "outputs": [
    {
     "name": "stdout",
     "output_type": "stream",
     "text": [
      "<class 'pandas.core.frame.DataFrame'>\n",
      "RangeIndex: 983 entries, 0 to 982\n",
      "Data columns (total 9 columns):\n",
      " #   Column                             Non-Null Count  Dtype  \n",
      "---  ------                             --------------  -----  \n",
      " 0   MSOAcode                           983 non-null    object \n",
      " 1   MSOAName                           983 non-null    object \n",
      " 2   Population                         983 non-null    object \n",
      " 3   PopDensity                         983 non-null    int64  \n",
      " 4   Age16_29%                          983 non-null    float64\n",
      " 5   BAME%                              983 non-null    float64\n",
      " 6   Householdspaces_no_usualresidents  983 non-null    float64\n",
      " 7   Household_Income                   983 non-null    float64\n",
      " 8   House_Price                        983 non-null    float64\n",
      "dtypes: float64(5), int64(1), object(3)\n",
      "memory usage: 69.2+ KB\n"
     ]
    }
   ],
   "source": [
    "df4.info()"
   ]
  },
  {
   "cell_type": "markdown",
   "metadata": {},
   "source": [
    "### 1.1 Data Join"
   ]
  },
  {
   "cell_type": "code",
   "execution_count": 6,
   "metadata": {},
   "outputs": [
    {
     "data": {
      "text/plain": [
       "(171372, 9)"
      ]
     },
     "execution_count": 6,
     "metadata": {},
     "output_type": "execute_result"
    }
   ],
   "source": [
    "# Combine LSOA related data collection into MSOA level\n",
    "df2_1 = pd.merge(left=df2, right=df3, how='inner', left_on='LSOAcode', right_on='LSOA11CD')\n",
    "df2_1.shape"
   ]
  },
  {
   "cell_type": "code",
   "execution_count": 7,
   "metadata": {},
   "outputs": [
    {
     "data": {
      "text/html": [
       "<div>\n",
       "<style scoped>\n",
       "    .dataframe tbody tr th:only-of-type {\n",
       "        vertical-align: middle;\n",
       "    }\n",
       "\n",
       "    .dataframe tbody tr th {\n",
       "        vertical-align: top;\n",
       "    }\n",
       "\n",
       "    .dataframe thead th {\n",
       "        text-align: right;\n",
       "    }\n",
       "</style>\n",
       "<table border=\"1\" class=\"dataframe\">\n",
       "  <thead>\n",
       "    <tr style=\"text-align: right;\">\n",
       "      <th></th>\n",
       "      <th>LSOAcode</th>\n",
       "      <th>LSOAname</th>\n",
       "      <th>IMD</th>\n",
       "      <th>Income</th>\n",
       "      <th>Employment</th>\n",
       "      <th>EducationSkillsTraining</th>\n",
       "      <th>LivingEnvironment</th>\n",
       "      <th>LSOA11CD</th>\n",
       "      <th>MSOA11CD</th>\n",
       "    </tr>\n",
       "  </thead>\n",
       "  <tbody>\n",
       "    <tr>\n",
       "      <th>0</th>\n",
       "      <td>E01031349</td>\n",
       "      <td>Adur 001A</td>\n",
       "      <td>12.389</td>\n",
       "      <td>0.096</td>\n",
       "      <td>0.083</td>\n",
       "      <td>20.055</td>\n",
       "      <td>15.180</td>\n",
       "      <td>E01031349</td>\n",
       "      <td>E02006534</td>\n",
       "    </tr>\n",
       "    <tr>\n",
       "      <th>1</th>\n",
       "      <td>E01031349</td>\n",
       "      <td>Adur 001A</td>\n",
       "      <td>12.389</td>\n",
       "      <td>0.096</td>\n",
       "      <td>0.083</td>\n",
       "      <td>20.055</td>\n",
       "      <td>15.180</td>\n",
       "      <td>E01031349</td>\n",
       "      <td>E02006534</td>\n",
       "    </tr>\n",
       "    <tr>\n",
       "      <th>2</th>\n",
       "      <td>E01031349</td>\n",
       "      <td>Adur 001A</td>\n",
       "      <td>12.389</td>\n",
       "      <td>0.096</td>\n",
       "      <td>0.083</td>\n",
       "      <td>20.055</td>\n",
       "      <td>15.180</td>\n",
       "      <td>E01031349</td>\n",
       "      <td>E02006534</td>\n",
       "    </tr>\n",
       "    <tr>\n",
       "      <th>3</th>\n",
       "      <td>E01031349</td>\n",
       "      <td>Adur 001A</td>\n",
       "      <td>12.389</td>\n",
       "      <td>0.096</td>\n",
       "      <td>0.083</td>\n",
       "      <td>20.055</td>\n",
       "      <td>15.180</td>\n",
       "      <td>E01031349</td>\n",
       "      <td>E02006534</td>\n",
       "    </tr>\n",
       "    <tr>\n",
       "      <th>4</th>\n",
       "      <td>E01031350</td>\n",
       "      <td>Adur 001B</td>\n",
       "      <td>28.619</td>\n",
       "      <td>0.187</td>\n",
       "      <td>0.162</td>\n",
       "      <td>34.653</td>\n",
       "      <td>17.837</td>\n",
       "      <td>E01031350</td>\n",
       "      <td>E02006534</td>\n",
       "    </tr>\n",
       "  </tbody>\n",
       "</table>\n",
       "</div>"
      ],
      "text/plain": [
       "    LSOAcode   LSOAname     IMD  Income  Employment  EducationSkillsTraining  \\\n",
       "0  E01031349  Adur 001A  12.389   0.096       0.083                   20.055   \n",
       "1  E01031349  Adur 001A  12.389   0.096       0.083                   20.055   \n",
       "2  E01031349  Adur 001A  12.389   0.096       0.083                   20.055   \n",
       "3  E01031349  Adur 001A  12.389   0.096       0.083                   20.055   \n",
       "4  E01031350  Adur 001B  28.619   0.187       0.162                   34.653   \n",
       "\n",
       "   LivingEnvironment   LSOA11CD   MSOA11CD  \n",
       "0             15.180  E01031349  E02006534  \n",
       "1             15.180  E01031349  E02006534  \n",
       "2             15.180  E01031349  E02006534  \n",
       "3             15.180  E01031349  E02006534  \n",
       "4             17.837  E01031350  E02006534  "
      ]
     },
     "execution_count": 7,
     "metadata": {},
     "output_type": "execute_result"
    }
   ],
   "source": [
    "df2_1.head()"
   ]
  },
  {
   "cell_type": "code",
   "execution_count": 8,
   "metadata": {},
   "outputs": [
    {
     "data": {
      "text/plain": [
       "(32844, 9)"
      ]
     },
     "execution_count": 8,
     "metadata": {},
     "output_type": "execute_result"
    }
   ],
   "source": [
    "df2_1 = df2_1.drop_duplicates()\n",
    "df2_1.shape"
   ]
  },
  {
   "cell_type": "code",
   "execution_count": 9,
   "metadata": {},
   "outputs": [
    {
     "data": {
      "text/html": [
       "<div>\n",
       "<style scoped>\n",
       "    .dataframe tbody tr th:only-of-type {\n",
       "        vertical-align: middle;\n",
       "    }\n",
       "\n",
       "    .dataframe tbody tr th {\n",
       "        vertical-align: top;\n",
       "    }\n",
       "\n",
       "    .dataframe thead th {\n",
       "        text-align: right;\n",
       "    }\n",
       "</style>\n",
       "<table border=\"1\" class=\"dataframe\">\n",
       "  <thead>\n",
       "    <tr style=\"text-align: right;\">\n",
       "      <th></th>\n",
       "      <th>MSOAcode</th>\n",
       "      <th>Employment_Deprivation</th>\n",
       "      <th>EducationSkills_Deprivation</th>\n",
       "      <th>LivingEnvironment_Deprivation</th>\n",
       "    </tr>\n",
       "  </thead>\n",
       "  <tbody>\n",
       "    <tr>\n",
       "      <th>0</th>\n",
       "      <td>E02000001</td>\n",
       "      <td>0.05100</td>\n",
       "      <td>4.410667</td>\n",
       "      <td>49.352500</td>\n",
       "    </tr>\n",
       "    <tr>\n",
       "      <th>1</th>\n",
       "      <td>E02000002</td>\n",
       "      <td>0.17075</td>\n",
       "      <td>33.099000</td>\n",
       "      <td>17.855250</td>\n",
       "    </tr>\n",
       "    <tr>\n",
       "      <th>2</th>\n",
       "      <td>E02000003</td>\n",
       "      <td>0.11550</td>\n",
       "      <td>17.473333</td>\n",
       "      <td>28.351333</td>\n",
       "    </tr>\n",
       "    <tr>\n",
       "      <th>3</th>\n",
       "      <td>E02000004</td>\n",
       "      <td>0.13800</td>\n",
       "      <td>23.301000</td>\n",
       "      <td>16.275500</td>\n",
       "    </tr>\n",
       "    <tr>\n",
       "      <th>4</th>\n",
       "      <td>E02000005</td>\n",
       "      <td>0.15240</td>\n",
       "      <td>27.740600</td>\n",
       "      <td>29.729600</td>\n",
       "    </tr>\n",
       "  </tbody>\n",
       "</table>\n",
       "</div>"
      ],
      "text/plain": [
       "    MSOAcode  Employment_Deprivation  EducationSkills_Deprivation  \\\n",
       "0  E02000001                 0.05100                     4.410667   \n",
       "1  E02000002                 0.17075                    33.099000   \n",
       "2  E02000003                 0.11550                    17.473333   \n",
       "3  E02000004                 0.13800                    23.301000   \n",
       "4  E02000005                 0.15240                    27.740600   \n",
       "\n",
       "   LivingEnvironment_Deprivation  \n",
       "0                      49.352500  \n",
       "1                      17.855250  \n",
       "2                      28.351333  \n",
       "3                      16.275500  \n",
       "4                      29.729600  "
      ]
     },
     "execution_count": 9,
     "metadata": {},
     "output_type": "execute_result"
    }
   ],
   "source": [
    "#Then convert the LSOA dataset to MSOA level\n",
    "df2_2 = pd.merge(left=df4, right=df2_1, how='left', left_on='MSOAcode', right_on='MSOA11CD')\n",
    "df2_3 = df2_2.groupby(['MSOAcode'])['Employment'].agg(['mean']).reset_index().rename(columns={'mean':'Employment_Deprivation',})\n",
    "df2_4 = df2_2.groupby(['MSOAcode'])['EducationSkillsTraining'].agg(['mean']).reset_index().rename(columns={'mean':'EducationSkills_Deprivation',})\n",
    "df2_5 = df2_2.groupby(['MSOAcode'])['LivingEnvironment'].agg(['mean']).reset_index().rename(columns={'mean':'LivingEnvironment_Deprivation',})\n",
    "\n",
    "df2_6 = pd.merge(left=df2_3, right=df2_4, how='left', on='MSOAcode')\n",
    "df2_6 = pd.merge(left=df2_6, right=df2_5, how='left', on='MSOAcode')\n",
    "\n",
    "df2_6.head()"
   ]
  },
  {
   "cell_type": "code",
   "execution_count": 10,
   "metadata": {},
   "outputs": [
    {
     "name": "stdout",
     "output_type": "stream",
     "text": [
      "<class 'pandas.core.frame.DataFrame'>\n",
      "Int64Index: 983 entries, 0 to 982\n",
      "Data columns (total 4 columns):\n",
      " #   Column                         Non-Null Count  Dtype  \n",
      "---  ------                         --------------  -----  \n",
      " 0   MSOAcode                       983 non-null    object \n",
      " 1   Employment_Deprivation         983 non-null    float64\n",
      " 2   EducationSkills_Deprivation    983 non-null    float64\n",
      " 3   LivingEnvironment_Deprivation  983 non-null    float64\n",
      "dtypes: float64(3), object(1)\n",
      "memory usage: 38.4+ KB\n"
     ]
    }
   ],
   "source": [
    "df2_6.info()"
   ]
  },
  {
   "cell_type": "code",
   "execution_count": 11,
   "metadata": {},
   "outputs": [
    {
     "data": {
      "text/html": [
       "<div>\n",
       "<style scoped>\n",
       "    .dataframe tbody tr th:only-of-type {\n",
       "        vertical-align: middle;\n",
       "    }\n",
       "\n",
       "    .dataframe tbody tr th {\n",
       "        vertical-align: top;\n",
       "    }\n",
       "\n",
       "    .dataframe thead th {\n",
       "        text-align: right;\n",
       "    }\n",
       "</style>\n",
       "<table border=\"1\" class=\"dataframe\">\n",
       "  <thead>\n",
       "    <tr style=\"text-align: right;\">\n",
       "      <th></th>\n",
       "      <th>MSOAcode</th>\n",
       "      <th>MSOAName</th>\n",
       "      <th>Population</th>\n",
       "      <th>PopDensity</th>\n",
       "      <th>Age16_29%</th>\n",
       "      <th>BAME%</th>\n",
       "      <th>Householdspaces_no_usualresidents</th>\n",
       "      <th>Household_Income</th>\n",
       "      <th>House_Price</th>\n",
       "      <th>Employment_Deprivation</th>\n",
       "      <th>EducationSkills_Deprivation</th>\n",
       "      <th>LivingEnvironment_Deprivation</th>\n",
       "    </tr>\n",
       "  </thead>\n",
       "  <tbody>\n",
       "    <tr>\n",
       "      <th>0</th>\n",
       "      <td>E02000001</td>\n",
       "      <td>City of London 001</td>\n",
       "      <td>8,760</td>\n",
       "      <td>30</td>\n",
       "      <td>20.0228</td>\n",
       "      <td>21.4</td>\n",
       "      <td>1.315970</td>\n",
       "      <td>4.901458</td>\n",
       "      <td>5.968178</td>\n",
       "      <td>0.05100</td>\n",
       "      <td>4.410667</td>\n",
       "      <td>49.352500</td>\n",
       "    </tr>\n",
       "    <tr>\n",
       "      <th>1</th>\n",
       "      <td>E02000002</td>\n",
       "      <td>Barking and Dagenham 001</td>\n",
       "      <td>7,301</td>\n",
       "      <td>34</td>\n",
       "      <td>17.7236</td>\n",
       "      <td>35.0</td>\n",
       "      <td>0.462398</td>\n",
       "      <td>4.586587</td>\n",
       "      <td>5.376292</td>\n",
       "      <td>0.17075</td>\n",
       "      <td>33.099000</td>\n",
       "      <td>17.855250</td>\n",
       "    </tr>\n",
       "    <tr>\n",
       "      <th>2</th>\n",
       "      <td>E02000003</td>\n",
       "      <td>Barking and Dagenham 002</td>\n",
       "      <td>10,810</td>\n",
       "      <td>50</td>\n",
       "      <td>18.6031</td>\n",
       "      <td>45.4</td>\n",
       "      <td>0.447158</td>\n",
       "      <td>4.666518</td>\n",
       "      <td>5.398329</td>\n",
       "      <td>0.11550</td>\n",
       "      <td>17.473333</td>\n",
       "      <td>28.351333</td>\n",
       "    </tr>\n",
       "    <tr>\n",
       "      <th>3</th>\n",
       "      <td>E02000004</td>\n",
       "      <td>Barking and Dagenham 003</td>\n",
       "      <td>6,491</td>\n",
       "      <td>26</td>\n",
       "      <td>21.9535</td>\n",
       "      <td>19.0</td>\n",
       "      <td>0.278754</td>\n",
       "      <td>4.656098</td>\n",
       "      <td>5.415759</td>\n",
       "      <td>0.13800</td>\n",
       "      <td>23.301000</td>\n",
       "      <td>16.275500</td>\n",
       "    </tr>\n",
       "    <tr>\n",
       "      <th>4</th>\n",
       "      <td>E02000005</td>\n",
       "      <td>Barking and Dagenham 004</td>\n",
       "      <td>9,060</td>\n",
       "      <td>76</td>\n",
       "      <td>18.4989</td>\n",
       "      <td>33.7</td>\n",
       "      <td>0.431364</td>\n",
       "      <td>4.612784</td>\n",
       "      <td>5.398138</td>\n",
       "      <td>0.15240</td>\n",
       "      <td>27.740600</td>\n",
       "      <td>29.729600</td>\n",
       "    </tr>\n",
       "  </tbody>\n",
       "</table>\n",
       "</div>"
      ],
      "text/plain": [
       "    MSOAcode                  MSOAName Population  PopDensity  Age16_29%  \\\n",
       "0  E02000001        City of London 001      8,760          30    20.0228   \n",
       "1  E02000002  Barking and Dagenham 001      7,301          34    17.7236   \n",
       "2  E02000003  Barking and Dagenham 002     10,810          50    18.6031   \n",
       "3  E02000004  Barking and Dagenham 003      6,491          26    21.9535   \n",
       "4  E02000005  Barking and Dagenham 004      9,060          76    18.4989   \n",
       "\n",
       "   BAME%  Householdspaces_no_usualresidents  Household_Income  House_Price  \\\n",
       "0   21.4                           1.315970          4.901458     5.968178   \n",
       "1   35.0                           0.462398          4.586587     5.376292   \n",
       "2   45.4                           0.447158          4.666518     5.398329   \n",
       "3   19.0                           0.278754          4.656098     5.415759   \n",
       "4   33.7                           0.431364          4.612784     5.398138   \n",
       "\n",
       "   Employment_Deprivation  EducationSkills_Deprivation  \\\n",
       "0                 0.05100                     4.410667   \n",
       "1                 0.17075                    33.099000   \n",
       "2                 0.11550                    17.473333   \n",
       "3                 0.13800                    23.301000   \n",
       "4                 0.15240                    27.740600   \n",
       "\n",
       "   LivingEnvironment_Deprivation  \n",
       "0                      49.352500  \n",
       "1                      17.855250  \n",
       "2                      28.351333  \n",
       "3                      16.275500  \n",
       "4                      29.729600  "
      ]
     },
     "execution_count": 11,
     "metadata": {},
     "output_type": "execute_result"
    }
   ],
   "source": [
    "#Summarise the IMD data to Data_indepent\n",
    "df4_final = pd.merge(left=df4, right=df2_6, how='left', on='MSOAcode')\n",
    "df4_final.head()"
   ]
  },
  {
   "cell_type": "code",
   "execution_count": 12,
   "metadata": {},
   "outputs": [
    {
     "name": "stdout",
     "output_type": "stream",
     "text": [
      "<class 'pandas.core.frame.DataFrame'>\n",
      "Int64Index: 983 entries, 0 to 982\n",
      "Data columns (total 12 columns):\n",
      " #   Column                             Non-Null Count  Dtype  \n",
      "---  ------                             --------------  -----  \n",
      " 0   MSOAcode                           983 non-null    object \n",
      " 1   MSOAName                           983 non-null    object \n",
      " 2   Population                         983 non-null    object \n",
      " 3   PopDensity                         983 non-null    int64  \n",
      " 4   Age16_29%                          983 non-null    float64\n",
      " 5   BAME%                              983 non-null    float64\n",
      " 6   Householdspaces_no_usualresidents  983 non-null    float64\n",
      " 7   Household_Income                   983 non-null    float64\n",
      " 8   House_Price                        983 non-null    float64\n",
      " 9   Employment_Deprivation             983 non-null    float64\n",
      " 10  EducationSkills_Deprivation        983 non-null    float64\n",
      " 11  LivingEnvironment_Deprivation      983 non-null    float64\n",
      "dtypes: float64(8), int64(1), object(3)\n",
      "memory usage: 99.8+ KB\n"
     ]
    }
   ],
   "source": [
    "df4_final.info()"
   ]
  },
  {
   "cell_type": "code",
   "execution_count": 14,
   "metadata": {},
   "outputs": [],
   "source": [
    "df4_final.to_csv('x_final_violent.csv',encoding=\"utf-8\")"
   ]
  },
  {
   "cell_type": "markdown",
   "metadata": {},
   "source": [
    "### Convert the crime data from LSOA to MSOA level  "
   ]
  },
  {
   "cell_type": "code",
   "execution_count": 15,
   "metadata": {},
   "outputs": [
    {
     "name": "stdout",
     "output_type": "stream",
     "text": [
      "<class 'pandas.core.frame.DataFrame'>\n",
      "RangeIndex: 29355 entries, 0 to 29354\n",
      "Data columns (total 2 columns):\n",
      " #   Column          Non-Null Count  Dtype \n",
      "---  ------          --------------  ----- \n",
      " 0   LSOACode        29355 non-null  object\n",
      " 1   Violence_Total  29355 non-null  int64 \n",
      "dtypes: int64(1), object(1)\n",
      "memory usage: 458.8+ KB\n"
     ]
    }
   ],
   "source": [
    "df1.info()"
   ]
  },
  {
   "cell_type": "code",
   "execution_count": 16,
   "metadata": {},
   "outputs": [
    {
     "data": {
      "text/html": [
       "<div>\n",
       "<style scoped>\n",
       "    .dataframe tbody tr th:only-of-type {\n",
       "        vertical-align: middle;\n",
       "    }\n",
       "\n",
       "    .dataframe tbody tr th {\n",
       "        vertical-align: top;\n",
       "    }\n",
       "\n",
       "    .dataframe thead th {\n",
       "        text-align: right;\n",
       "    }\n",
       "</style>\n",
       "<table border=\"1\" class=\"dataframe\">\n",
       "  <thead>\n",
       "    <tr style=\"text-align: right;\">\n",
       "      <th></th>\n",
       "      <th>LSOACode</th>\n",
       "      <th>Violence_Total</th>\n",
       "    </tr>\n",
       "  </thead>\n",
       "  <tbody>\n",
       "    <tr>\n",
       "      <th>0</th>\n",
       "      <td>E01000006</td>\n",
       "      <td>5</td>\n",
       "    </tr>\n",
       "    <tr>\n",
       "      <th>1</th>\n",
       "      <td>E01000006</td>\n",
       "      <td>8</td>\n",
       "    </tr>\n",
       "    <tr>\n",
       "      <th>2</th>\n",
       "      <td>E01000006</td>\n",
       "      <td>14</td>\n",
       "    </tr>\n",
       "    <tr>\n",
       "      <th>3</th>\n",
       "      <td>E01000006</td>\n",
       "      <td>0</td>\n",
       "    </tr>\n",
       "    <tr>\n",
       "      <th>4</th>\n",
       "      <td>E01000006</td>\n",
       "      <td>3</td>\n",
       "    </tr>\n",
       "  </tbody>\n",
       "</table>\n",
       "</div>"
      ],
      "text/plain": [
       "    LSOACode  Violence_Total\n",
       "0  E01000006               5\n",
       "1  E01000006               8\n",
       "2  E01000006              14\n",
       "3  E01000006               0\n",
       "4  E01000006               3"
      ]
     },
     "execution_count": 16,
     "metadata": {},
     "output_type": "execute_result"
    }
   ],
   "source": [
    "df1.head()"
   ]
  },
  {
   "cell_type": "code",
   "execution_count": 17,
   "metadata": {},
   "outputs": [],
   "source": [
    "df1_1 = df1.groupby('LSOACode').sum().reset_index()"
   ]
  },
  {
   "cell_type": "code",
   "execution_count": 18,
   "metadata": {},
   "outputs": [
    {
     "data": {
      "text/html": [
       "<div>\n",
       "<style scoped>\n",
       "    .dataframe tbody tr th:only-of-type {\n",
       "        vertical-align: middle;\n",
       "    }\n",
       "\n",
       "    .dataframe tbody tr th {\n",
       "        vertical-align: top;\n",
       "    }\n",
       "\n",
       "    .dataframe thead th {\n",
       "        text-align: right;\n",
       "    }\n",
       "</style>\n",
       "<table border=\"1\" class=\"dataframe\">\n",
       "  <thead>\n",
       "    <tr style=\"text-align: right;\">\n",
       "      <th></th>\n",
       "      <th>LSOACode</th>\n",
       "      <th>Violence_Total</th>\n",
       "    </tr>\n",
       "  </thead>\n",
       "  <tbody>\n",
       "    <tr>\n",
       "      <th>0</th>\n",
       "      <td>E01000006</td>\n",
       "      <td>32</td>\n",
       "    </tr>\n",
       "    <tr>\n",
       "      <th>1</th>\n",
       "      <td>E01000007</td>\n",
       "      <td>182</td>\n",
       "    </tr>\n",
       "    <tr>\n",
       "      <th>2</th>\n",
       "      <td>E01000008</td>\n",
       "      <td>59</td>\n",
       "    </tr>\n",
       "    <tr>\n",
       "      <th>3</th>\n",
       "      <td>E01000009</td>\n",
       "      <td>83</td>\n",
       "    </tr>\n",
       "    <tr>\n",
       "      <th>4</th>\n",
       "      <td>E01000010</td>\n",
       "      <td>330</td>\n",
       "    </tr>\n",
       "  </tbody>\n",
       "</table>\n",
       "</div>"
      ],
      "text/plain": [
       "    LSOACode  Violence_Total\n",
       "0  E01000006              32\n",
       "1  E01000007             182\n",
       "2  E01000008              59\n",
       "3  E01000009              83\n",
       "4  E01000010             330"
      ]
     },
     "execution_count": 18,
     "metadata": {},
     "output_type": "execute_result"
    }
   ],
   "source": [
    "df1_1.head()"
   ]
  },
  {
   "cell_type": "code",
   "execution_count": 19,
   "metadata": {},
   "outputs": [],
   "source": [
    "df1_2 = pd.merge(left=df1_1, right=df3, how='inner', left_on='LSOACode', right_on='LSOA11CD')"
   ]
  },
  {
   "cell_type": "code",
   "execution_count": 20,
   "metadata": {},
   "outputs": [
    {
     "data": {
      "text/plain": [
       "(4831, 4)"
      ]
     },
     "execution_count": 20,
     "metadata": {},
     "output_type": "execute_result"
    }
   ],
   "source": [
    "df1_2 = df1_2.drop_duplicates()\n",
    "df1_2.shape"
   ]
  },
  {
   "cell_type": "code",
   "execution_count": 21,
   "metadata": {},
   "outputs": [
    {
     "data": {
      "text/html": [
       "<div>\n",
       "<style scoped>\n",
       "    .dataframe tbody tr th:only-of-type {\n",
       "        vertical-align: middle;\n",
       "    }\n",
       "\n",
       "    .dataframe tbody tr th {\n",
       "        vertical-align: top;\n",
       "    }\n",
       "\n",
       "    .dataframe thead th {\n",
       "        text-align: right;\n",
       "    }\n",
       "</style>\n",
       "<table border=\"1\" class=\"dataframe\">\n",
       "  <thead>\n",
       "    <tr style=\"text-align: right;\">\n",
       "      <th></th>\n",
       "      <th>LSOACode</th>\n",
       "      <th>Violence_Total</th>\n",
       "      <th>LSOA11CD</th>\n",
       "      <th>MSOA11CD</th>\n",
       "    </tr>\n",
       "  </thead>\n",
       "  <tbody>\n",
       "    <tr>\n",
       "      <th>0</th>\n",
       "      <td>E01000006</td>\n",
       "      <td>32</td>\n",
       "      <td>E01000006</td>\n",
       "      <td>E02000017</td>\n",
       "    </tr>\n",
       "    <tr>\n",
       "      <th>5</th>\n",
       "      <td>E01000007</td>\n",
       "      <td>182</td>\n",
       "      <td>E01000007</td>\n",
       "      <td>E02000016</td>\n",
       "    </tr>\n",
       "    <tr>\n",
       "      <th>9</th>\n",
       "      <td>E01000008</td>\n",
       "      <td>59</td>\n",
       "      <td>E01000008</td>\n",
       "      <td>E02000016</td>\n",
       "    </tr>\n",
       "    <tr>\n",
       "      <th>13</th>\n",
       "      <td>E01000009</td>\n",
       "      <td>83</td>\n",
       "      <td>E01000009</td>\n",
       "      <td>E02000017</td>\n",
       "    </tr>\n",
       "    <tr>\n",
       "      <th>18</th>\n",
       "      <td>E01000010</td>\n",
       "      <td>330</td>\n",
       "      <td>E01000010</td>\n",
       "      <td>E02000016</td>\n",
       "    </tr>\n",
       "  </tbody>\n",
       "</table>\n",
       "</div>"
      ],
      "text/plain": [
       "     LSOACode  Violence_Total   LSOA11CD   MSOA11CD\n",
       "0   E01000006              32  E01000006  E02000017\n",
       "5   E01000007             182  E01000007  E02000016\n",
       "9   E01000008              59  E01000008  E02000016\n",
       "13  E01000009              83  E01000009  E02000017\n",
       "18  E01000010             330  E01000010  E02000016"
      ]
     },
     "execution_count": 21,
     "metadata": {},
     "output_type": "execute_result"
    }
   ],
   "source": [
    "df1_2.head()"
   ]
  },
  {
   "cell_type": "code",
   "execution_count": 22,
   "metadata": {},
   "outputs": [
    {
     "data": {
      "text/plain": [
       "(4831, 2)"
      ]
     },
     "execution_count": 22,
     "metadata": {},
     "output_type": "execute_result"
    }
   ],
   "source": [
    "# Summarise the number of crime from LSOA level to MSOA level\n",
    "df1_2 = df1_2.groupby('MSOA11CD').sum().reset_index()\n",
    "df1_1.shape"
   ]
  },
  {
   "cell_type": "code",
   "execution_count": 23,
   "metadata": {},
   "outputs": [
    {
     "data": {
      "text/html": [
       "<div>\n",
       "<style scoped>\n",
       "    .dataframe tbody tr th:only-of-type {\n",
       "        vertical-align: middle;\n",
       "    }\n",
       "\n",
       "    .dataframe tbody tr th {\n",
       "        vertical-align: top;\n",
       "    }\n",
       "\n",
       "    .dataframe thead th {\n",
       "        text-align: right;\n",
       "    }\n",
       "</style>\n",
       "<table border=\"1\" class=\"dataframe\">\n",
       "  <thead>\n",
       "    <tr style=\"text-align: right;\">\n",
       "      <th></th>\n",
       "      <th>MSOA11CD</th>\n",
       "      <th>Violence_Total</th>\n",
       "    </tr>\n",
       "  </thead>\n",
       "  <tbody>\n",
       "    <tr>\n",
       "      <th>0</th>\n",
       "      <td>E02000001</td>\n",
       "      <td>16</td>\n",
       "    </tr>\n",
       "    <tr>\n",
       "      <th>1</th>\n",
       "      <td>E02000002</td>\n",
       "      <td>224</td>\n",
       "    </tr>\n",
       "    <tr>\n",
       "      <th>2</th>\n",
       "      <td>E02000003</td>\n",
       "      <td>294</td>\n",
       "    </tr>\n",
       "    <tr>\n",
       "      <th>3</th>\n",
       "      <td>E02000004</td>\n",
       "      <td>121</td>\n",
       "    </tr>\n",
       "    <tr>\n",
       "      <th>4</th>\n",
       "      <td>E02000005</td>\n",
       "      <td>245</td>\n",
       "    </tr>\n",
       "  </tbody>\n",
       "</table>\n",
       "</div>"
      ],
      "text/plain": [
       "    MSOA11CD  Violence_Total\n",
       "0  E02000001              16\n",
       "1  E02000002             224\n",
       "2  E02000003             294\n",
       "3  E02000004             121\n",
       "4  E02000005             245"
      ]
     },
     "execution_count": 23,
     "metadata": {},
     "output_type": "execute_result"
    }
   ],
   "source": [
    "df1_2.head()"
   ]
  },
  {
   "cell_type": "code",
   "execution_count": 24,
   "metadata": {},
   "outputs": [],
   "source": [
    "df1_2 = df1_2.drop_duplicates()"
   ]
  },
  {
   "cell_type": "code",
   "execution_count": 25,
   "metadata": {},
   "outputs": [
    {
     "name": "stdout",
     "output_type": "stream",
     "text": [
      "<class 'pandas.core.frame.DataFrame'>\n",
      "Int64Index: 983 entries, 0 to 982\n",
      "Data columns (total 2 columns):\n",
      " #   Column     Non-Null Count  Dtype \n",
      "---  ------     --------------  ----- \n",
      " 0   MSOA11CD   983 non-null    object\n",
      " 1   Theft_Sum  983 non-null    int64 \n",
      "dtypes: int64(1), object(1)\n",
      "memory usage: 23.0+ KB\n"
     ]
    }
   ],
   "source": [
    "df1_2.info()"
   ]
  },
  {
   "cell_type": "code",
   "execution_count": 25,
   "metadata": {},
   "outputs": [],
   "source": [
    "df1_2.rename(columns = {'MSOA11CD':'MSOAcode'},inplace=True)"
   ]
  },
  {
   "cell_type": "code",
   "execution_count": 26,
   "metadata": {},
   "outputs": [],
   "source": [
    "df1_2.to_csv('Violent_MSOA.csv',encoding=\"utf-8\")"
   ]
  },
  {
   "cell_type": "code",
   "execution_count": 27,
   "metadata": {},
   "outputs": [],
   "source": [
    "#Merge the crime data to the independent_final data, then get the whole datasets\n",
    "df_all = pd.merge(left=df4_final, right=df1_2, how='left', on='MSOAcode')"
   ]
  },
  {
   "cell_type": "code",
   "execution_count": 28,
   "metadata": {},
   "outputs": [
    {
     "data": {
      "text/html": [
       "<div>\n",
       "<style scoped>\n",
       "    .dataframe tbody tr th:only-of-type {\n",
       "        vertical-align: middle;\n",
       "    }\n",
       "\n",
       "    .dataframe tbody tr th {\n",
       "        vertical-align: top;\n",
       "    }\n",
       "\n",
       "    .dataframe thead th {\n",
       "        text-align: right;\n",
       "    }\n",
       "</style>\n",
       "<table border=\"1\" class=\"dataframe\">\n",
       "  <thead>\n",
       "    <tr style=\"text-align: right;\">\n",
       "      <th></th>\n",
       "      <th>MSOAcode</th>\n",
       "      <th>MSOAName</th>\n",
       "      <th>Population</th>\n",
       "      <th>PopDensity</th>\n",
       "      <th>Age16_29%</th>\n",
       "      <th>BAME%</th>\n",
       "      <th>Householdspaces_no_usualresidents</th>\n",
       "      <th>Household_Income</th>\n",
       "      <th>House_Price</th>\n",
       "      <th>Employment_Deprivation</th>\n",
       "      <th>EducationSkills_Deprivation</th>\n",
       "      <th>LivingEnvironment_Deprivation</th>\n",
       "      <th>Violence_Total</th>\n",
       "    </tr>\n",
       "  </thead>\n",
       "  <tbody>\n",
       "    <tr>\n",
       "      <th>0</th>\n",
       "      <td>E02000001</td>\n",
       "      <td>City of London 001</td>\n",
       "      <td>8,760</td>\n",
       "      <td>30</td>\n",
       "      <td>20.0228</td>\n",
       "      <td>21.4</td>\n",
       "      <td>1.315970</td>\n",
       "      <td>4.901458</td>\n",
       "      <td>5.968178</td>\n",
       "      <td>0.05100</td>\n",
       "      <td>4.410667</td>\n",
       "      <td>49.352500</td>\n",
       "      <td>16</td>\n",
       "    </tr>\n",
       "    <tr>\n",
       "      <th>1</th>\n",
       "      <td>E02000002</td>\n",
       "      <td>Barking and Dagenham 001</td>\n",
       "      <td>7,301</td>\n",
       "      <td>34</td>\n",
       "      <td>17.7236</td>\n",
       "      <td>35.0</td>\n",
       "      <td>0.462398</td>\n",
       "      <td>4.586587</td>\n",
       "      <td>5.376292</td>\n",
       "      <td>0.17075</td>\n",
       "      <td>33.099000</td>\n",
       "      <td>17.855250</td>\n",
       "      <td>224</td>\n",
       "    </tr>\n",
       "    <tr>\n",
       "      <th>2</th>\n",
       "      <td>E02000003</td>\n",
       "      <td>Barking and Dagenham 002</td>\n",
       "      <td>10,810</td>\n",
       "      <td>50</td>\n",
       "      <td>18.6031</td>\n",
       "      <td>45.4</td>\n",
       "      <td>0.447158</td>\n",
       "      <td>4.666518</td>\n",
       "      <td>5.398329</td>\n",
       "      <td>0.11550</td>\n",
       "      <td>17.473333</td>\n",
       "      <td>28.351333</td>\n",
       "      <td>294</td>\n",
       "    </tr>\n",
       "    <tr>\n",
       "      <th>3</th>\n",
       "      <td>E02000004</td>\n",
       "      <td>Barking and Dagenham 003</td>\n",
       "      <td>6,491</td>\n",
       "      <td>26</td>\n",
       "      <td>21.9535</td>\n",
       "      <td>19.0</td>\n",
       "      <td>0.278754</td>\n",
       "      <td>4.656098</td>\n",
       "      <td>5.415759</td>\n",
       "      <td>0.13800</td>\n",
       "      <td>23.301000</td>\n",
       "      <td>16.275500</td>\n",
       "      <td>121</td>\n",
       "    </tr>\n",
       "    <tr>\n",
       "      <th>4</th>\n",
       "      <td>E02000005</td>\n",
       "      <td>Barking and Dagenham 004</td>\n",
       "      <td>9,060</td>\n",
       "      <td>76</td>\n",
       "      <td>18.4989</td>\n",
       "      <td>33.7</td>\n",
       "      <td>0.431364</td>\n",
       "      <td>4.612784</td>\n",
       "      <td>5.398138</td>\n",
       "      <td>0.15240</td>\n",
       "      <td>27.740600</td>\n",
       "      <td>29.729600</td>\n",
       "      <td>245</td>\n",
       "    </tr>\n",
       "  </tbody>\n",
       "</table>\n",
       "</div>"
      ],
      "text/plain": [
       "    MSOAcode                  MSOAName Population  PopDensity  Age16_29%  \\\n",
       "0  E02000001        City of London 001      8,760          30    20.0228   \n",
       "1  E02000002  Barking and Dagenham 001      7,301          34    17.7236   \n",
       "2  E02000003  Barking and Dagenham 002     10,810          50    18.6031   \n",
       "3  E02000004  Barking and Dagenham 003      6,491          26    21.9535   \n",
       "4  E02000005  Barking and Dagenham 004      9,060          76    18.4989   \n",
       "\n",
       "   BAME%  Householdspaces_no_usualresidents  Household_Income  House_Price  \\\n",
       "0   21.4                           1.315970          4.901458     5.968178   \n",
       "1   35.0                           0.462398          4.586587     5.376292   \n",
       "2   45.4                           0.447158          4.666518     5.398329   \n",
       "3   19.0                           0.278754          4.656098     5.415759   \n",
       "4   33.7                           0.431364          4.612784     5.398138   \n",
       "\n",
       "   Employment_Deprivation  EducationSkills_Deprivation  \\\n",
       "0                 0.05100                     4.410667   \n",
       "1                 0.17075                    33.099000   \n",
       "2                 0.11550                    17.473333   \n",
       "3                 0.13800                    23.301000   \n",
       "4                 0.15240                    27.740600   \n",
       "\n",
       "   LivingEnvironment_Deprivation  Violence_Total  \n",
       "0                      49.352500              16  \n",
       "1                      17.855250             224  \n",
       "2                      28.351333             294  \n",
       "3                      16.275500             121  \n",
       "4                      29.729600             245  "
      ]
     },
     "execution_count": 28,
     "metadata": {},
     "output_type": "execute_result"
    }
   ],
   "source": [
    "df_all.head()"
   ]
  },
  {
   "cell_type": "code",
   "execution_count": 29,
   "metadata": {},
   "outputs": [],
   "source": [
    "#Here, in order to smooth and reduce the heteroskedasticity of the data, we use log(crime rate) to do research, \n",
    "#So we first save this file and then calculate log(crime rate) by using excel\n",
    "#How to calculate crime rate? ------(the number of crime/population)*1000\n",
    "#Then,save the file as \"Data_Total.csv\" for later use\n",
    "df_all.to_csv('data_to_handle_violent.csv',encoding=\"utf-8\")"
   ]
  },
  {
   "cell_type": "code",
   "execution_count": 11,
   "metadata": {},
   "outputs": [
    {
     "data": {
      "text/html": [
       "<div>\n",
       "<style scoped>\n",
       "    .dataframe tbody tr th:only-of-type {\n",
       "        vertical-align: middle;\n",
       "    }\n",
       "\n",
       "    .dataframe tbody tr th {\n",
       "        vertical-align: top;\n",
       "    }\n",
       "\n",
       "    .dataframe thead th {\n",
       "        text-align: right;\n",
       "    }\n",
       "</style>\n",
       "<table border=\"1\" class=\"dataframe\">\n",
       "  <thead>\n",
       "    <tr style=\"text-align: right;\">\n",
       "      <th></th>\n",
       "      <th>MSOAcode</th>\n",
       "      <th>MSOAName</th>\n",
       "      <th>log_Violent</th>\n",
       "      <th>Population</th>\n",
       "      <th>PopDensity</th>\n",
       "      <th>Age16_29%</th>\n",
       "      <th>BAME%</th>\n",
       "      <th>Householdspaces_no_usualresidents</th>\n",
       "      <th>Household_Income</th>\n",
       "      <th>House_Price</th>\n",
       "      <th>Employment_Deprivation</th>\n",
       "      <th>EducationSkills_Deprivation</th>\n",
       "      <th>LivingEnvironment_Deprivation</th>\n",
       "      <th>Violence_Total</th>\n",
       "    </tr>\n",
       "  </thead>\n",
       "  <tbody>\n",
       "    <tr>\n",
       "      <th>0</th>\n",
       "      <td>E02000001</td>\n",
       "      <td>City of London 001</td>\n",
       "      <td>0.261616</td>\n",
       "      <td>8,760</td>\n",
       "      <td>30</td>\n",
       "      <td>20.0228</td>\n",
       "      <td>21.4</td>\n",
       "      <td>1.315970</td>\n",
       "      <td>4.901458</td>\n",
       "      <td>5.968178</td>\n",
       "      <td>0.05100</td>\n",
       "      <td>4.410667</td>\n",
       "      <td>49.352500</td>\n",
       "      <td>16</td>\n",
       "    </tr>\n",
       "    <tr>\n",
       "      <th>1</th>\n",
       "      <td>E02000002</td>\n",
       "      <td>Barking and Dagenham 001</td>\n",
       "      <td>1.486866</td>\n",
       "      <td>7,301</td>\n",
       "      <td>34</td>\n",
       "      <td>17.7236</td>\n",
       "      <td>35.0</td>\n",
       "      <td>0.462398</td>\n",
       "      <td>4.586587</td>\n",
       "      <td>5.376292</td>\n",
       "      <td>0.17075</td>\n",
       "      <td>33.099000</td>\n",
       "      <td>17.855250</td>\n",
       "      <td>224</td>\n",
       "    </tr>\n",
       "    <tr>\n",
       "      <th>2</th>\n",
       "      <td>E02000003</td>\n",
       "      <td>Barking and Dagenham 002</td>\n",
       "      <td>1.434522</td>\n",
       "      <td>10,810</td>\n",
       "      <td>50</td>\n",
       "      <td>18.6031</td>\n",
       "      <td>45.4</td>\n",
       "      <td>0.447158</td>\n",
       "      <td>4.666518</td>\n",
       "      <td>5.398329</td>\n",
       "      <td>0.11550</td>\n",
       "      <td>17.473333</td>\n",
       "      <td>28.351333</td>\n",
       "      <td>294</td>\n",
       "    </tr>\n",
       "    <tr>\n",
       "      <th>3</th>\n",
       "      <td>E02000004</td>\n",
       "      <td>Barking and Dagenham 003</td>\n",
       "      <td>1.270474</td>\n",
       "      <td>6,491</td>\n",
       "      <td>26</td>\n",
       "      <td>21.9535</td>\n",
       "      <td>19.0</td>\n",
       "      <td>0.278754</td>\n",
       "      <td>4.656098</td>\n",
       "      <td>5.415759</td>\n",
       "      <td>0.13800</td>\n",
       "      <td>23.301000</td>\n",
       "      <td>16.275500</td>\n",
       "      <td>121</td>\n",
       "    </tr>\n",
       "    <tr>\n",
       "      <th>4</th>\n",
       "      <td>E02000005</td>\n",
       "      <td>Barking and Dagenham 004</td>\n",
       "      <td>1.432038</td>\n",
       "      <td>9,060</td>\n",
       "      <td>76</td>\n",
       "      <td>18.4989</td>\n",
       "      <td>33.7</td>\n",
       "      <td>0.431364</td>\n",
       "      <td>4.612784</td>\n",
       "      <td>5.398138</td>\n",
       "      <td>0.15240</td>\n",
       "      <td>27.740600</td>\n",
       "      <td>29.729600</td>\n",
       "      <td>245</td>\n",
       "    </tr>\n",
       "  </tbody>\n",
       "</table>\n",
       "</div>"
      ],
      "text/plain": [
       "    MSOAcode                  MSOAName  log_Violent Population  PopDensity  \\\n",
       "0  E02000001        City of London 001     0.261616      8,760          30   \n",
       "1  E02000002  Barking and Dagenham 001     1.486866      7,301          34   \n",
       "2  E02000003  Barking and Dagenham 002     1.434522     10,810          50   \n",
       "3  E02000004  Barking and Dagenham 003     1.270474      6,491          26   \n",
       "4  E02000005  Barking and Dagenham 004     1.432038      9,060          76   \n",
       "\n",
       "   Age16_29%  BAME%  Householdspaces_no_usualresidents  Household_Income  \\\n",
       "0    20.0228   21.4                           1.315970          4.901458   \n",
       "1    17.7236   35.0                           0.462398          4.586587   \n",
       "2    18.6031   45.4                           0.447158          4.666518   \n",
       "3    21.9535   19.0                           0.278754          4.656098   \n",
       "4    18.4989   33.7                           0.431364          4.612784   \n",
       "\n",
       "   House_Price  Employment_Deprivation  EducationSkills_Deprivation  \\\n",
       "0     5.968178                 0.05100                     4.410667   \n",
       "1     5.376292                 0.17075                    33.099000   \n",
       "2     5.398329                 0.11550                    17.473333   \n",
       "3     5.415759                 0.13800                    23.301000   \n",
       "4     5.398138                 0.15240                    27.740600   \n",
       "\n",
       "   LivingEnvironment_Deprivation  Violence_Total  \n",
       "0                      49.352500              16  \n",
       "1                      17.855250             224  \n",
       "2                      28.351333             294  \n",
       "3                      16.275500             121  \n",
       "4                      29.729600             245  "
      ]
     },
     "execution_count": 11,
     "metadata": {},
     "output_type": "execute_result"
    }
   ],
   "source": [
    "df_all = pd.read_csv('Data_Total_violent.csv')\n",
    "df_all.head()"
   ]
  },
  {
   "cell_type": "code",
   "execution_count": 12,
   "metadata": {},
   "outputs": [],
   "source": [
    "# Drop the Area and Poplution colums\n",
    "df_all = df_all.drop(columns=['Population','MSOAName','Violence_Total'], axis=1)"
   ]
  },
  {
   "cell_type": "code",
   "execution_count": 13,
   "metadata": {},
   "outputs": [
    {
     "data": {
      "text/html": [
       "<div>\n",
       "<style scoped>\n",
       "    .dataframe tbody tr th:only-of-type {\n",
       "        vertical-align: middle;\n",
       "    }\n",
       "\n",
       "    .dataframe tbody tr th {\n",
       "        vertical-align: top;\n",
       "    }\n",
       "\n",
       "    .dataframe thead th {\n",
       "        text-align: right;\n",
       "    }\n",
       "</style>\n",
       "<table border=\"1\" class=\"dataframe\">\n",
       "  <thead>\n",
       "    <tr style=\"text-align: right;\">\n",
       "      <th></th>\n",
       "      <th>MSOAcode</th>\n",
       "      <th>log_Violent</th>\n",
       "      <th>PopDensity</th>\n",
       "      <th>Age16_29%</th>\n",
       "      <th>BAME%</th>\n",
       "      <th>Householdspaces_no_usualresidents</th>\n",
       "      <th>Household_Income</th>\n",
       "      <th>House_Price</th>\n",
       "      <th>Employment_Deprivation</th>\n",
       "      <th>EducationSkills_Deprivation</th>\n",
       "      <th>LivingEnvironment_Deprivation</th>\n",
       "    </tr>\n",
       "  </thead>\n",
       "  <tbody>\n",
       "    <tr>\n",
       "      <th>0</th>\n",
       "      <td>E02000001</td>\n",
       "      <td>0.261616</td>\n",
       "      <td>30</td>\n",
       "      <td>20.0228</td>\n",
       "      <td>21.4</td>\n",
       "      <td>1.315970</td>\n",
       "      <td>4.901458</td>\n",
       "      <td>5.968178</td>\n",
       "      <td>0.05100</td>\n",
       "      <td>4.410667</td>\n",
       "      <td>49.352500</td>\n",
       "    </tr>\n",
       "    <tr>\n",
       "      <th>1</th>\n",
       "      <td>E02000002</td>\n",
       "      <td>1.486866</td>\n",
       "      <td>34</td>\n",
       "      <td>17.7236</td>\n",
       "      <td>35.0</td>\n",
       "      <td>0.462398</td>\n",
       "      <td>4.586587</td>\n",
       "      <td>5.376292</td>\n",
       "      <td>0.17075</td>\n",
       "      <td>33.099000</td>\n",
       "      <td>17.855250</td>\n",
       "    </tr>\n",
       "    <tr>\n",
       "      <th>2</th>\n",
       "      <td>E02000003</td>\n",
       "      <td>1.434522</td>\n",
       "      <td>50</td>\n",
       "      <td>18.6031</td>\n",
       "      <td>45.4</td>\n",
       "      <td>0.447158</td>\n",
       "      <td>4.666518</td>\n",
       "      <td>5.398329</td>\n",
       "      <td>0.11550</td>\n",
       "      <td>17.473333</td>\n",
       "      <td>28.351333</td>\n",
       "    </tr>\n",
       "    <tr>\n",
       "      <th>3</th>\n",
       "      <td>E02000004</td>\n",
       "      <td>1.270474</td>\n",
       "      <td>26</td>\n",
       "      <td>21.9535</td>\n",
       "      <td>19.0</td>\n",
       "      <td>0.278754</td>\n",
       "      <td>4.656098</td>\n",
       "      <td>5.415759</td>\n",
       "      <td>0.13800</td>\n",
       "      <td>23.301000</td>\n",
       "      <td>16.275500</td>\n",
       "    </tr>\n",
       "    <tr>\n",
       "      <th>4</th>\n",
       "      <td>E02000005</td>\n",
       "      <td>1.432038</td>\n",
       "      <td>76</td>\n",
       "      <td>18.4989</td>\n",
       "      <td>33.7</td>\n",
       "      <td>0.431364</td>\n",
       "      <td>4.612784</td>\n",
       "      <td>5.398138</td>\n",
       "      <td>0.15240</td>\n",
       "      <td>27.740600</td>\n",
       "      <td>29.729600</td>\n",
       "    </tr>\n",
       "  </tbody>\n",
       "</table>\n",
       "</div>"
      ],
      "text/plain": [
       "    MSOAcode  log_Violent  PopDensity  Age16_29%  BAME%  \\\n",
       "0  E02000001     0.261616          30    20.0228   21.4   \n",
       "1  E02000002     1.486866          34    17.7236   35.0   \n",
       "2  E02000003     1.434522          50    18.6031   45.4   \n",
       "3  E02000004     1.270474          26    21.9535   19.0   \n",
       "4  E02000005     1.432038          76    18.4989   33.7   \n",
       "\n",
       "   Householdspaces_no_usualresidents  Household_Income  House_Price  \\\n",
       "0                           1.315970          4.901458     5.968178   \n",
       "1                           0.462398          4.586587     5.376292   \n",
       "2                           0.447158          4.666518     5.398329   \n",
       "3                           0.278754          4.656098     5.415759   \n",
       "4                           0.431364          4.612784     5.398138   \n",
       "\n",
       "   Employment_Deprivation  EducationSkills_Deprivation  \\\n",
       "0                 0.05100                     4.410667   \n",
       "1                 0.17075                    33.099000   \n",
       "2                 0.11550                    17.473333   \n",
       "3                 0.13800                    23.301000   \n",
       "4                 0.15240                    27.740600   \n",
       "\n",
       "   LivingEnvironment_Deprivation  \n",
       "0                      49.352500  \n",
       "1                      17.855250  \n",
       "2                      28.351333  \n",
       "3                      16.275500  \n",
       "4                      29.729600  "
      ]
     },
     "execution_count": 13,
     "metadata": {},
     "output_type": "execute_result"
    }
   ],
   "source": [
    "df_all.head()"
   ]
  },
  {
   "cell_type": "code",
   "execution_count": 14,
   "metadata": {},
   "outputs": [
    {
     "name": "stdout",
     "output_type": "stream",
     "text": [
      "<class 'pandas.core.frame.DataFrame'>\n",
      "RangeIndex: 983 entries, 0 to 982\n",
      "Data columns (total 11 columns):\n",
      " #   Column                             Non-Null Count  Dtype  \n",
      "---  ------                             --------------  -----  \n",
      " 0   MSOAcode                           983 non-null    object \n",
      " 1   log_Violent                        983 non-null    float64\n",
      " 2   PopDensity                         983 non-null    int64  \n",
      " 3   Age16_29%                          983 non-null    float64\n",
      " 4   BAME%                              983 non-null    float64\n",
      " 5   Householdspaces_no_usualresidents  983 non-null    float64\n",
      " 6   Household_Income                   983 non-null    float64\n",
      " 7   House_Price                        983 non-null    float64\n",
      " 8   Employment_Deprivation             983 non-null    float64\n",
      " 9   EducationSkills_Deprivation        983 non-null    float64\n",
      " 10  LivingEnvironment_Deprivation      983 non-null    float64\n",
      "dtypes: float64(9), int64(1), object(1)\n",
      "memory usage: 84.6+ KB\n"
     ]
    }
   ],
   "source": [
    "df_all.info()"
   ]
  },
  {
   "cell_type": "markdown",
   "metadata": {},
   "source": [
    "### Below datafile will be used for OLS and GWR models in RStudio"
   ]
  },
  {
   "cell_type": "code",
   "execution_count": 33,
   "metadata": {},
   "outputs": [],
   "source": [
    "df_all.to_csv('xy_final_violent.csv',encoding=\"utf-8\")"
   ]
  },
  {
   "cell_type": "markdown",
   "metadata": {},
   "source": [
    "## 1.2 Data Summary Statistics"
   ]
  },
  {
   "cell_type": "markdown",
   "metadata": {},
   "source": [
    "Below are the description and boxplot of the final data, we can find that there is a gap in some variables, such as popdensity and there are some outliers in some variables, but the outliers do not mean abnormal or wrong and due to the OLS model we are going to conduct is not as sensitive to outliers as logistic regression, so ouliers are remained."
   ]
  },
  {
   "cell_type": "code",
   "execution_count": 15,
   "metadata": {},
   "outputs": [
    {
     "data": {
      "text/html": [
       "<div>\n",
       "<style scoped>\n",
       "    .dataframe tbody tr th:only-of-type {\n",
       "        vertical-align: middle;\n",
       "    }\n",
       "\n",
       "    .dataframe tbody tr th {\n",
       "        vertical-align: top;\n",
       "    }\n",
       "\n",
       "    .dataframe thead th {\n",
       "        text-align: right;\n",
       "    }\n",
       "</style>\n",
       "<table border=\"1\" class=\"dataframe\">\n",
       "  <thead>\n",
       "    <tr style=\"text-align: right;\">\n",
       "      <th></th>\n",
       "      <th>log_Violent</th>\n",
       "      <th>PopDensity</th>\n",
       "      <th>Age16_29%</th>\n",
       "      <th>BAME%</th>\n",
       "      <th>Householdspaces_no_usualresidents</th>\n",
       "      <th>Household_Income</th>\n",
       "      <th>House_Price</th>\n",
       "      <th>Employment_Deprivation</th>\n",
       "      <th>EducationSkills_Deprivation</th>\n",
       "      <th>LivingEnvironment_Deprivation</th>\n",
       "    </tr>\n",
       "  </thead>\n",
       "  <tbody>\n",
       "    <tr>\n",
       "      <th>count</th>\n",
       "      <td>983.000000</td>\n",
       "      <td>983.000000</td>\n",
       "      <td>983.000000</td>\n",
       "      <td>983.000000</td>\n",
       "      <td>983.000000</td>\n",
       "      <td>983.000000</td>\n",
       "      <td>983.000000</td>\n",
       "      <td>983.000000</td>\n",
       "      <td>983.000000</td>\n",
       "      <td>983.000000</td>\n",
       "    </tr>\n",
       "    <tr>\n",
       "      <th>mean</th>\n",
       "      <td>1.361694</td>\n",
       "      <td>88.545270</td>\n",
       "      <td>20.280276</td>\n",
       "      <td>39.419532</td>\n",
       "      <td>0.440051</td>\n",
       "      <td>4.701919</td>\n",
       "      <td>5.658225</td>\n",
       "      <td>0.111091</td>\n",
       "      <td>14.129312</td>\n",
       "      <td>30.526664</td>\n",
       "    </tr>\n",
       "    <tr>\n",
       "      <th>std</th>\n",
       "      <td>0.223518</td>\n",
       "      <td>51.462736</td>\n",
       "      <td>5.261931</td>\n",
       "      <td>19.309944</td>\n",
       "      <td>0.244703</td>\n",
       "      <td>0.086687</td>\n",
       "      <td>0.212780</td>\n",
       "      <td>0.047190</td>\n",
       "      <td>9.175755</td>\n",
       "      <td>13.029274</td>\n",
       "    </tr>\n",
       "    <tr>\n",
       "      <th>min</th>\n",
       "      <td>0.261616</td>\n",
       "      <td>3.000000</td>\n",
       "      <td>10.353900</td>\n",
       "      <td>3.800000</td>\n",
       "      <td>-0.301030</td>\n",
       "      <td>4.505150</td>\n",
       "      <td>5.261620</td>\n",
       "      <td>0.008000</td>\n",
       "      <td>0.510250</td>\n",
       "      <td>5.785000</td>\n",
       "    </tr>\n",
       "    <tr>\n",
       "      <th>25%</th>\n",
       "      <td>1.225017</td>\n",
       "      <td>49.500000</td>\n",
       "      <td>16.917900</td>\n",
       "      <td>23.700000</td>\n",
       "      <td>0.278754</td>\n",
       "      <td>4.640481</td>\n",
       "      <td>5.500952</td>\n",
       "      <td>0.073675</td>\n",
       "      <td>6.870383</td>\n",
       "      <td>20.467375</td>\n",
       "    </tr>\n",
       "    <tr>\n",
       "      <th>50%</th>\n",
       "      <td>1.372378</td>\n",
       "      <td>78.000000</td>\n",
       "      <td>19.268100</td>\n",
       "      <td>37.300000</td>\n",
       "      <td>0.397940</td>\n",
       "      <td>4.693727</td>\n",
       "      <td>5.623290</td>\n",
       "      <td>0.107000</td>\n",
       "      <td>12.570600</td>\n",
       "      <td>29.867000</td>\n",
       "    </tr>\n",
       "    <tr>\n",
       "      <th>75%</th>\n",
       "      <td>1.503910</td>\n",
       "      <td>120.000000</td>\n",
       "      <td>22.506850</td>\n",
       "      <td>53.600000</td>\n",
       "      <td>0.568202</td>\n",
       "      <td>4.757396</td>\n",
       "      <td>5.780549</td>\n",
       "      <td>0.143775</td>\n",
       "      <td>19.688000</td>\n",
       "      <td>39.414458</td>\n",
       "    </tr>\n",
       "    <tr>\n",
       "      <th>max</th>\n",
       "      <td>2.562301</td>\n",
       "      <td>274.000000</td>\n",
       "      <td>50.232800</td>\n",
       "      <td>93.900000</td>\n",
       "      <td>1.456366</td>\n",
       "      <td>5.024075</td>\n",
       "      <td>6.660628</td>\n",
       "      <td>0.275000</td>\n",
       "      <td>47.364000</td>\n",
       "      <td>73.181500</td>\n",
       "    </tr>\n",
       "  </tbody>\n",
       "</table>\n",
       "</div>"
      ],
      "text/plain": [
       "       log_Violent  PopDensity   Age16_29%       BAME%  \\\n",
       "count   983.000000  983.000000  983.000000  983.000000   \n",
       "mean      1.361694   88.545270   20.280276   39.419532   \n",
       "std       0.223518   51.462736    5.261931   19.309944   \n",
       "min       0.261616    3.000000   10.353900    3.800000   \n",
       "25%       1.225017   49.500000   16.917900   23.700000   \n",
       "50%       1.372378   78.000000   19.268100   37.300000   \n",
       "75%       1.503910  120.000000   22.506850   53.600000   \n",
       "max       2.562301  274.000000   50.232800   93.900000   \n",
       "\n",
       "       Householdspaces_no_usualresidents  Household_Income  House_Price  \\\n",
       "count                         983.000000        983.000000   983.000000   \n",
       "mean                            0.440051          4.701919     5.658225   \n",
       "std                             0.244703          0.086687     0.212780   \n",
       "min                            -0.301030          4.505150     5.261620   \n",
       "25%                             0.278754          4.640481     5.500952   \n",
       "50%                             0.397940          4.693727     5.623290   \n",
       "75%                             0.568202          4.757396     5.780549   \n",
       "max                             1.456366          5.024075     6.660628   \n",
       "\n",
       "       Employment_Deprivation  EducationSkills_Deprivation  \\\n",
       "count              983.000000                   983.000000   \n",
       "mean                 0.111091                    14.129312   \n",
       "std                  0.047190                     9.175755   \n",
       "min                  0.008000                     0.510250   \n",
       "25%                  0.073675                     6.870383   \n",
       "50%                  0.107000                    12.570600   \n",
       "75%                  0.143775                    19.688000   \n",
       "max                  0.275000                    47.364000   \n",
       "\n",
       "       LivingEnvironment_Deprivation  \n",
       "count                     983.000000  \n",
       "mean                       30.526664  \n",
       "std                        13.029274  \n",
       "min                         5.785000  \n",
       "25%                        20.467375  \n",
       "50%                        29.867000  \n",
       "75%                        39.414458  \n",
       "max                        73.181500  "
      ]
     },
     "execution_count": 15,
     "metadata": {},
     "output_type": "execute_result"
    }
   ],
   "source": [
    "df_all.describe()"
   ]
  },
  {
   "cell_type": "code",
   "execution_count": 35,
   "metadata": {},
   "outputs": [],
   "source": [
    "Description = df_all.describe()\n",
    "Description.to_csv('Description_violent.csv',encoding=\"utf-8\")"
   ]
  },
  {
   "cell_type": "code",
   "execution_count": 37,
   "metadata": {},
   "outputs": [
    {
     "data": {
      "image/png": "[encoded data removed]",
      "text/plain": [
       "<Figure size 1152x720 with 12 Axes>"
      ]
     },
     "metadata": {
      "needs_background": "light"
     },
     "output_type": "display_data"
    }
   ],
   "source": [
    "# Check outliers by using boxplot \n",
    "figure,axes =plt.subplots(3,4,figsize=(16,10))\n",
    "axes[0][0].boxplot(df_all['log_Violent'],widths = 0.4)\n",
    "axes[0][0].set_title('log_Violent')\n",
    "axes[0][1].boxplot(df_all['PopDensity'],widths = 0.4)\n",
    "axes[0][1].set_title('PopDensity')\n",
    "axes[0][2].boxplot(df_all['Age16_29%'],widths = 0.4)\n",
    "axes[0][2].set_title('Age16_29%')\n",
    "axes[0][3].boxplot(df_all['BAME%'],widths = 0.4)\n",
    "axes[0][3].set_title('BAME%')\n",
    "axes[1][0].boxplot(df_all['Householdspaces_no_usualresidents'],widths = 0.4)\n",
    "axes[1][0].set_title('Householdspaces_no_usualresidents')\n",
    "axes[1][1].boxplot(df_all['Household_Income'],widths = 0.4)\n",
    "axes[1][1].set_title('Household_Income')\n",
    "axes[1][2].boxplot(df_all['House_Price'],widths = 0.4)\n",
    "axes[1][2].set_title('House_Price')\n",
    "axes[1][3].boxplot(df_all['Employment_Deprivation'],widths = 0.4)\n",
    "axes[1][3].set_title('Employment_Deprivation')\n",
    "axes[2][0].boxplot(df_all['EducationSkills_Deprivation'],widths = 0.4)\n",
    "axes[2][0].set_title('EducationSkills_Deprivation')\n",
    "axes[2][1].boxplot(df_all['LivingEnvironment_Deprivation'],widths = 0.4)\n",
    "axes[2][1].set_title('LivingEnvironment_Deprivation')\n",
    "\n",
    "\n",
    "plt.savefig(\"Boxplot_violent.png\",dpi=300)"
   ]
  },
  {
   "cell_type": "markdown",
   "metadata": {},
   "source": [
    "# 2.OLS regression test"
   ]
  },
  {
   "cell_type": "markdown",
   "metadata": {},
   "source": [
    "## 2.1 Check for roughly normal distribution or not"
   ]
  },
  {
   "cell_type": "code",
   "execution_count": 38,
   "metadata": {},
   "outputs": [],
   "source": [
    "# Plot histograms of the variables to see distributions"
   ]
  },
  {
   "cell_type": "code",
   "execution_count": 183,
   "metadata": {},
   "outputs": [],
   "source": [
    "df_all.dropna(inplace=True)  "
   ]
  },
  {
   "cell_type": "code",
   "execution_count": 39,
   "metadata": {},
   "outputs": [
    {
     "data": {
      "image/png": "[encoded data removed]",
      "text/plain": [
       "<Figure size 864x864 with 12 Axes>"
      ]
     },
     "metadata": {
      "needs_background": "light"
     },
     "output_type": "display_data"
    }
   ],
   "source": [
    "# First, plot histograms of the variables to see distributions\n",
    "Histograms = df_all[[\"log_Violent\", \"PopDensity\", \"Age16_29%\" , \"BAME%\" , \"Householdspaces_no_usualresidents\",\n",
    "                     \"Household_Income\", \"House_Price\", \"Employment_Deprivation\",\n",
    "                     \"EducationSkills_Deprivation\", \"LivingEnvironment_Deprivation\"]]\n",
    "Histograms.hist(figsize=(12,12),color = 'lightgrey')\n",
    "plt.savefig(\"Histograms_violent.png\",dpi=300)\n",
    "pyplot.show()"
   ]
  },
  {
   "cell_type": "markdown",
   "metadata": {},
   "source": [
    "## 2.2 Correlation analysis"
   ]
  },
  {
   "cell_type": "code",
   "execution_count": 40,
   "metadata": {},
   "outputs": [],
   "source": [
    "#Check for correlation of individual social status and health condition\n",
    "Correlation = df_all[[\"log_Violent\", \"PopDensity\", \"Age16_29%\" , \"BAME%\" , \"Householdspaces_no_usualresidents\", \n",
    "                     \"Household_Income\", \"House_Price\", \"Employment_Deprivation\",\n",
    "                     \"EducationSkills_Deprivation\", \"LivingEnvironment_Deprivation\"]]\n",
    "Correlation_analysis = Correlation.corr()"
   ]
  },
  {
   "cell_type": "code",
   "execution_count": 41,
   "metadata": {},
   "outputs": [
    {
     "data": {
      "image/png": "[encoded data removed]",
      "text/plain": [
       "<Figure size 1080x1080 with 2 Axes>"
      ]
     },
     "metadata": {
      "needs_background": "light"
     },
     "output_type": "display_data"
    }
   ],
   "source": [
    "#Plot the heatmap of correlation\n",
    "Correlation_analysis\n",
    "mask = np.array(Correlation_analysis)\n",
    "mask[np.tril_indices_from(mask)]=False\n",
    "fig = plt.figure(figsize=(15,15))\n",
    "\n",
    "# Generate a custom diverging colormap\n",
    "cmap = sns.diverging_palette(230, 20, as_cmap=True)\n",
    "\n",
    "# Draw the heatmap with the mask and correct aspect ratio\n",
    "sns.heatmap(Correlation_analysis, mask=mask, annot=True, cmap=cmap, vmax=.3, center=0,\n",
    "            square=True, linewidths=.5, cbar_kws={\"shrink\": .5})\n",
    "\n",
    "plt.savefig(\"Correlation_violent.png\",dpi=300)"
   ]
  },
  {
   "cell_type": "markdown",
   "metadata": {},
   "source": [
    "## 2.3 VIF test"
   ]
  },
  {
   "cell_type": "code",
   "execution_count": 42,
   "metadata": {},
   "outputs": [],
   "source": [
    "from statsmodels.stats.outliers_influence import variance_inflation_factor \n",
    "from statsmodels.tools.tools import add_constant\n",
    "\n",
    "def drop_column_using_vif_(df, thresh=6):\n",
    "    '''\n",
    "    Calculates VIF each feature in a pandas dataframe, and repeatedly drop the columns with the highest VIF\n",
    "    A constant must be added to variance_inflation_factor or the results will be incorrect\n",
    "\n",
    "    :param df: the pandas dataframe containing only the predictor features, not the response variable\n",
    "    :param thresh: the max VIF value before the feature is removed from the dataframe\n",
    "    :return: dataframe with multicollinear features removed\n",
    "    '''\n",
    "    while True:\n",
    "        # adding a constatnt item to the data\n",
    "        df_with_const = add_constant(df)\n",
    "\n",
    "        vif_df = pd.Series([variance_inflation_factor(df_with_const.values, i) \n",
    "               for i in range(df_with_const.shape[1])], name= \"VIF\",\n",
    "              index=df_with_const.columns).to_frame()\n",
    "\n",
    "        # drop the const\n",
    "        vif_df = vif_df.drop('const')\n",
    "        \n",
    "        # if the largest VIF is above the thresh, remove a variable with the largest VIF\n",
    "        if vif_df.VIF.max() > thresh:\n",
    "            # If there are multiple variables with the maximum VIF, choose the first one\n",
    "            index_to_drop = vif_df.index[vif_df.VIF == vif_df.VIF.max()].tolist()[0]\n",
    "            print('Dropping: {}'.format(index_to_drop))\n",
    "            df = df.drop(columns = index_to_drop)\n",
    "        else:\n",
    "            # No VIF is above threshold. Exit the loop\n",
    "            break\n",
    "\n",
    "    return df"
   ]
  },
  {
   "cell_type": "code",
   "execution_count": 43,
   "metadata": {},
   "outputs": [],
   "source": [
    "df_all_drop = df_all.drop(columns=['MSOAcode'], axis=1)"
   ]
  },
  {
   "cell_type": "code",
   "execution_count": 44,
   "metadata": {},
   "outputs": [
    {
     "name": "stdout",
     "output_type": "stream",
     "text": [
      "<class 'pandas.core.frame.DataFrame'>\n",
      "RangeIndex: 983 entries, 0 to 982\n",
      "Data columns (total 10 columns):\n",
      " #   Column                             Non-Null Count  Dtype  \n",
      "---  ------                             --------------  -----  \n",
      " 0   log_Violent                        983 non-null    float64\n",
      " 1   PopDensity                         983 non-null    int64  \n",
      " 2   Age16_29%                          983 non-null    float64\n",
      " 3   BAME%                              983 non-null    float64\n",
      " 4   Householdspaces_no_usualresidents  983 non-null    float64\n",
      " 5   Household_Income                   983 non-null    float64\n",
      " 6   House_Price                        983 non-null    float64\n",
      " 7   Employment_Deprivation             983 non-null    float64\n",
      " 8   EducationSkills_Deprivation        983 non-null    float64\n",
      " 9   LivingEnvironment_Deprivation      983 non-null    float64\n",
      "dtypes: float64(9), int64(1)\n",
      "memory usage: 76.9 KB\n"
     ]
    }
   ],
   "source": [
    "df_all_drop.info()"
   ]
  },
  {
   "cell_type": "code",
   "execution_count": 45,
   "metadata": {},
   "outputs": [],
   "source": [
    "# Using VIF on the df_final dataset\n",
    "predictors_df_final_drop = df_all_drop.drop({'log_Violent'}, axis=1)\n",
    "response_df_final_drop = df_all_drop['log_Violent']\n"
   ]
  },
  {
   "cell_type": "code",
   "execution_count": 46,
   "metadata": {},
   "outputs": [
    {
     "name": "stdout",
     "output_type": "stream",
     "text": [
      "Dropping: Household_Income\n",
      "The columns remaining after VIF selection are:\n",
      "Index(['PopDensity', 'Age16_29%', 'BAME%', 'Householdspaces_no_usualresidents',\n",
      "       'House_Price', 'Employment_Deprivation', 'EducationSkills_Deprivation',\n",
      "       'LivingEnvironment_Deprivation'],\n",
      "      dtype='object')\n"
     ]
    }
   ],
   "source": [
    "df_predictors_select_VIF = drop_column_using_vif_(predictors_df_final_drop, thresh=6)\n",
    "print(\"The columns remaining after VIF selection are:\")\n",
    "print(df_predictors_select_VIF.columns)"
   ]
  },
  {
   "cell_type": "code",
   "execution_count": 47,
   "metadata": {},
   "outputs": [],
   "source": [
    "predictors_df_final_drop = df_all_drop.drop({'log_Violent','Household_Income'}, axis=1)"
   ]
  },
  {
   "cell_type": "code",
   "execution_count": 48,
   "metadata": {},
   "outputs": [
    {
     "name": "stdout",
     "output_type": "stream",
     "text": [
      "The columns remaining after VIF selection are:\n",
      "Index(['PopDensity', 'Age16_29%', 'BAME%', 'Householdspaces_no_usualresidents',\n",
      "       'House_Price', 'Employment_Deprivation', 'EducationSkills_Deprivation',\n",
      "       'LivingEnvironment_Deprivation'],\n",
      "      dtype='object')\n"
     ]
    }
   ],
   "source": [
    "df_predictors_select_VIF = drop_column_using_vif_(predictors_df_final_drop, thresh=5)\n",
    "print(\"The columns remaining after VIF selection are:\")\n",
    "print(df_predictors_select_VIF.columns)"
   ]
  },
  {
   "cell_type": "markdown",
   "metadata": {},
   "source": [
    "## 2.4 Conduct OLS"
   ]
  },
  {
   "cell_type": "code",
   "execution_count": 49,
   "metadata": {},
   "outputs": [
    {
     "data": {
      "text/html": [
       "<table class=\"simpletable\">\n",
       "<caption>OLS Regression Results</caption>\n",
       "<tr>\n",
       "  <th>Dep. Variable:</th>            <td>y</td>        <th>  R-squared:         </th> <td>   0.628</td> \n",
       "</tr>\n",
       "<tr>\n",
       "  <th>Model:</th>                   <td>OLS</td>       <th>  Adj. R-squared:    </th> <td>   0.625</td> \n",
       "</tr>\n",
       "<tr>\n",
       "  <th>Method:</th>             <td>Least Squares</td>  <th>  F-statistic:       </th> <td>   205.6</td> \n",
       "</tr>\n",
       "<tr>\n",
       "  <th>Date:</th>             <td>Sun, 06 Feb 2022</td> <th>  Prob (F-statistic):</th> <td>3.23e-203</td>\n",
       "</tr>\n",
       "<tr>\n",
       "  <th>Time:</th>                 <td>05:38:03</td>     <th>  Log-Likelihood:    </th> <td>  564.57</td> \n",
       "</tr>\n",
       "<tr>\n",
       "  <th>No. Observations:</th>      <td>   983</td>      <th>  AIC:               </th> <td>  -1111.</td> \n",
       "</tr>\n",
       "<tr>\n",
       "  <th>Df Residuals:</th>          <td>   974</td>      <th>  BIC:               </th> <td>  -1067.</td> \n",
       "</tr>\n",
       "<tr>\n",
       "  <th>Df Model:</th>              <td>     8</td>      <th>                     </th>     <td> </td>    \n",
       "</tr>\n",
       "<tr>\n",
       "  <th>Covariance Type:</th>      <td>nonrobust</td>    <th>                     </th>     <td> </td>    \n",
       "</tr>\n",
       "</table>\n",
       "<table class=\"simpletable\">\n",
       "<tr>\n",
       "                  <td></td>                     <th>coef</th>     <th>std err</th>      <th>t</th>      <th>P>|t|</th>  <th>[0.025</th>    <th>0.975]</th>  \n",
       "</tr>\n",
       "<tr>\n",
       "  <th>const</th>                             <td>    1.9632</td> <td>    0.214</td> <td>    9.170</td> <td> 0.000</td> <td>    1.543</td> <td>    2.383</td>\n",
       "</tr>\n",
       "<tr>\n",
       "  <th>PopDensity</th>                        <td>   -0.0014</td> <td>    0.000</td> <td>  -10.471</td> <td> 0.000</td> <td>   -0.002</td> <td>   -0.001</td>\n",
       "</tr>\n",
       "<tr>\n",
       "  <th>Age16_29%</th>                         <td>    0.0073</td> <td>    0.001</td> <td>    6.741</td> <td> 0.000</td> <td>    0.005</td> <td>    0.009</td>\n",
       "</tr>\n",
       "<tr>\n",
       "  <th>BAME%</th>                             <td>    0.0009</td> <td>    0.000</td> <td>    3.116</td> <td> 0.002</td> <td>    0.000</td> <td>    0.001</td>\n",
       "</tr>\n",
       "<tr>\n",
       "  <th>Householdspaces_no_usualresidents</th> <td>    0.1581</td> <td>    0.024</td> <td>    6.702</td> <td> 0.000</td> <td>    0.112</td> <td>    0.204</td>\n",
       "</tr>\n",
       "<tr>\n",
       "  <th>House_Price</th>                       <td>   -0.2253</td> <td>    0.037</td> <td>   -6.015</td> <td> 0.000</td> <td>   -0.299</td> <td>   -0.152</td>\n",
       "</tr>\n",
       "<tr>\n",
       "  <th>Employment_Deprivation</th>            <td>    2.3363</td> <td>    0.177</td> <td>   13.209</td> <td> 0.000</td> <td>    1.989</td> <td>    2.683</td>\n",
       "</tr>\n",
       "<tr>\n",
       "  <th>EducationSkills_Deprivation</th>       <td> 3.067e-05</td> <td>    0.001</td> <td>    0.033</td> <td> 0.973</td> <td>   -0.002</td> <td>    0.002</td>\n",
       "</tr>\n",
       "<tr>\n",
       "  <th>LivingEnvironment_Deprivation</th>     <td>    0.0092</td> <td>    0.001</td> <td>   14.968</td> <td> 0.000</td> <td>    0.008</td> <td>    0.010</td>\n",
       "</tr>\n",
       "</table>\n",
       "<table class=\"simpletable\">\n",
       "<tr>\n",
       "  <th>Omnibus:</th>       <td>182.722</td> <th>  Durbin-Watson:     </th> <td>   1.759</td>\n",
       "</tr>\n",
       "<tr>\n",
       "  <th>Prob(Omnibus):</th> <td> 0.000</td>  <th>  Jarque-Bera (JB):  </th> <td>3726.233</td>\n",
       "</tr>\n",
       "<tr>\n",
       "  <th>Skew:</th>          <td>-0.163</td>  <th>  Prob(JB):          </th> <td>    0.00</td>\n",
       "</tr>\n",
       "<tr>\n",
       "  <th>Kurtosis:</th>      <td>12.533</td>  <th>  Cond. No.          </th> <td>5.79e+03</td>\n",
       "</tr>\n",
       "</table><br/><br/>Notes:<br/>[1] Standard Errors assume that the covariance matrix of the errors is correctly specified.<br/>[2] The condition number is large, 5.79e+03. This might indicate that there are<br/>strong multicollinearity or other numerical problems."
      ],
      "text/plain": [
       "<class 'statsmodels.iolib.summary.Summary'>\n",
       "\"\"\"\n",
       "                            OLS Regression Results                            \n",
       "==============================================================================\n",
       "Dep. Variable:                      y   R-squared:                       0.628\n",
       "Model:                            OLS   Adj. R-squared:                  0.625\n",
       "Method:                 Least Squares   F-statistic:                     205.6\n",
       "Date:                Sun, 06 Feb 2022   Prob (F-statistic):          3.23e-203\n",
       "Time:                        05:38:03   Log-Likelihood:                 564.57\n",
       "No. Observations:                 983   AIC:                            -1111.\n",
       "Df Residuals:                     974   BIC:                            -1067.\n",
       "Df Model:                           8                                         \n",
       "Covariance Type:            nonrobust                                         \n",
       "=====================================================================================================\n",
       "                                        coef    std err          t      P>|t|      [0.025      0.975]\n",
       "-----------------------------------------------------------------------------------------------------\n",
       "const                                 1.9632      0.214      9.170      0.000       1.543       2.383\n",
       "PopDensity                           -0.0014      0.000    -10.471      0.000      -0.002      -0.001\n",
       "Age16_29%                             0.0073      0.001      6.741      0.000       0.005       0.009\n",
       "BAME%                                 0.0009      0.000      3.116      0.002       0.000       0.001\n",
       "Householdspaces_no_usualresidents     0.1581      0.024      6.702      0.000       0.112       0.204\n",
       "House_Price                          -0.2253      0.037     -6.015      0.000      -0.299      -0.152\n",
       "Employment_Deprivation                2.3363      0.177     13.209      0.000       1.989       2.683\n",
       "EducationSkills_Deprivation        3.067e-05      0.001      0.033      0.973      -0.002       0.002\n",
       "LivingEnvironment_Deprivation         0.0092      0.001     14.968      0.000       0.008       0.010\n",
       "==============================================================================\n",
       "Omnibus:                      182.722   Durbin-Watson:                   1.759\n",
       "Prob(Omnibus):                  0.000   Jarque-Bera (JB):             3726.233\n",
       "Skew:                          -0.163   Prob(JB):                         0.00\n",
       "Kurtosis:                      12.533   Cond. No.                     5.79e+03\n",
       "==============================================================================\n",
       "\n",
       "Notes:\n",
       "[1] Standard Errors assume that the covariance matrix of the errors is correctly specified.\n",
       "[2] The condition number is large, 5.79e+03. This might indicate that there are\n",
       "strong multicollinearity or other numerical problems.\n",
       "\"\"\""
      ]
     },
     "execution_count": 49,
     "metadata": {},
     "output_type": "execute_result"
    }
   ],
   "source": [
    "model_ols= predictors_df_final_drop\n",
    "OLS_out = sm.OLS(endog=response_df_final_drop.values.tolist(), exog=sm.add_constant(model_ols)).fit()\n",
    "OLS_out.summary()"
   ]
  }
 ],
 "metadata": {
  "kernelspec": {
   "display_name": "Python 3",
   "language": "python",
   "name": "python3"
  },
  "language_info": {
   "codemirror_mode": {
    "name": "ipython",
    "version": 3
   },
   "file_extension": ".py",
   "mimetype": "text/x-python",
   "name": "python",
   "nbconvert_exporter": "python",
   "pygments_lexer": "ipython3",
   "version": "3.7.8"
  }
 },
 "nbformat": 4,
 "nbformat_minor": 4
}
